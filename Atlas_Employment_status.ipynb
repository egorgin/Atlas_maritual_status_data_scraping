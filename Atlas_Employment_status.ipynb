{
 "cells": [
  {
   "cell_type": "markdown",
   "id": "ce705ce0",
   "metadata": {},
   "source": [
    "## State populations"
   ]
  },
  {
   "cell_type": "code",
   "execution_count": 1,
   "id": "1b70ce54",
   "metadata": {},
   "outputs": [],
   "source": [
    "import bs4\n",
    "from urllib.request import urlopen as uReq\n",
    "from bs4 import BeautifulSoup as soup\n",
    "import pandas as pd\n",
    "import re"
   ]
  },
  {
   "cell_type": "markdown",
   "id": "5a800123",
   "metadata": {},
   "source": [
    "## Percentage of both Parents Working by State"
   ]
  },
  {
   "cell_type": "code",
   "execution_count": 13,
   "id": "832ab6a7",
   "metadata": {},
   "outputs": [
    {
     "data": {
      "text/plain": [
       "21"
      ]
     },
     "execution_count": 13,
     "metadata": {},
     "output_type": "execute_result"
    }
   ],
   "source": [
    "my_url='https://statisticalatlas.com/United-States/Employment-Status#figure/state/both-parents-work'\n",
    "Uread=uReq(my_url)\n",
    "map_html= Uread.read()\n",
    "Uread.close()\n",
    "map_soup=soup(map_html,'html.parser')\n",
    "containers_3=map_soup.findAll('div',{'class':\"col-sm-6 figure-col no-gutter\"})\n",
    "len(containers_3)"
   ]
  },
  {
   "cell_type": "code",
   "execution_count": 14,
   "id": "9ebd35ee",
   "metadata": {},
   "outputs": [
    {
     "data": {
      "text/plain": [
       "[<text font-family=\"sans-serif\" font-size=\"13\" font-style=\"normal\" font-weight=\"normal\" text-anchor=\"end\" text-decoration=\"none\" x=\"93\" y=\"35.89\">Fairfax</text>,\n",
       " <text font-family=\"sans-serif\" font-size=\"13\" font-style=\"normal\" font-weight=\"normal\" text-anchor=\"end\" text-decoration=\"none\" x=\"93\" y=\"51.89\">Montgomery</text>,\n",
       " <text font-family=\"sans-serif\" font-size=\"13\" font-style=\"normal\" font-weight=\"normal\" text-anchor=\"end\" text-decoration=\"none\" x=\"93\" y=\"67.89\">Wake</text>,\n",
       " <text font-family=\"sans-serif\" font-size=\"13\" font-style=\"normal\" font-weight=\"normal\" text-anchor=\"end\" text-decoration=\"none\" x=\"93\" y=\"83.89\">Travis</text>,\n",
       " <text font-family=\"sans-serif\" font-size=\"13\" font-style=\"normal\" font-weight=\"normal\" text-anchor=\"end\" text-decoration=\"none\" x=\"93\" y=\"99.89\">Santa Clara</text>,\n",
       " <text font-family=\"sans-serif\" font-size=\"13\" font-style=\"normal\" font-weight=\"normal\" text-anchor=\"end\" text-decoration=\"none\" x=\"93\" y=\"115.89\">Salt Lake</text>,\n",
       " <text font-family=\"sans-serif\" font-size=\"13\" font-style=\"normal\" font-weight=\"normal\" text-anchor=\"end\" text-decoration=\"none\" x=\"93\" y=\"131.89\">Hennepin</text>,\n",
       " <text font-family=\"sans-serif\" font-size=\"13\" font-style=\"normal\" font-weight=\"normal\" text-anchor=\"end\" text-decoration=\"none\" x=\"93\" y=\"147.89\">Nassau</text>,\n",
       " <text font-family=\"sans-serif\" font-size=\"13\" font-style=\"normal\" font-weight=\"normal\" text-anchor=\"end\" text-decoration=\"none\" x=\"93\" y=\"163.89\">Mecklenburg</text>,\n",
       " <text font-family=\"sans-serif\" font-size=\"13\" font-style=\"normal\" font-weight=\"normal\" text-anchor=\"end\" text-decoration=\"none\" x=\"93\" y=\"179.89\">Oakland</text>,\n",
       " <text font-family=\"sans-serif\" font-size=\"13\" font-style=\"normal\" font-weight=\"normal\" text-anchor=\"end\" text-decoration=\"none\" x=\"93\" y=\"195.89\">King</text>,\n",
       " <text font-family=\"sans-serif\" font-size=\"13\" font-style=\"normal\" font-weight=\"normal\" text-anchor=\"end\" text-decoration=\"none\" x=\"93\" y=\"211.89\">Fairfield</text>,\n",
       " <text font-family=\"sans-serif\" font-size=\"13\" font-style=\"normal\" font-weight=\"normal\" text-anchor=\"end\" text-decoration=\"none\" x=\"93\" y=\"227.89\">Middlesex</text>,\n",
       " <text font-family=\"sans-serif\" font-size=\"13\" font-style=\"normal\" font-weight=\"normal\" text-anchor=\"end\" text-decoration=\"none\" x=\"93\" y=\"243.89\">Tarrant</text>,\n",
       " <text font-family=\"sans-serif\" font-size=\"13\" font-style=\"normal\" font-weight=\"normal\" text-anchor=\"end\" text-decoration=\"none\" x=\"93\" y=\"259.89\">Contra Costa</text>,\n",
       " <text font-family=\"sans-serif\" font-size=\"13\" font-style=\"normal\" font-weight=\"normal\" text-anchor=\"end\" text-decoration=\"none\" x=\"93\" y=\"275.89\">Orange</text>,\n",
       " <text font-family=\"sans-serif\" font-size=\"13\" font-style=\"normal\" font-weight=\"normal\" text-anchor=\"end\" text-decoration=\"none\" x=\"93\" y=\"291.89\">Westchester</text>,\n",
       " <text font-family=\"sans-serif\" font-size=\"13\" font-style=\"normal\" font-weight=\"normal\" text-anchor=\"end\" text-decoration=\"none\" x=\"93\" y=\"307.89\">Harris</text>,\n",
       " <text font-family=\"sans-serif\" font-size=\"13\" font-style=\"normal\" font-weight=\"normal\" text-anchor=\"end\" text-decoration=\"none\" x=\"93\" y=\"323.89\">Honolulu</text>,\n",
       " <text font-family=\"sans-serif\" font-size=\"13\" font-style=\"normal\" font-weight=\"normal\" text-anchor=\"end\" text-decoration=\"none\" x=\"93\" y=\"339.89\">Suffolk</text>,\n",
       " <text font-family=\"sans-serif\" font-size=\"13\" font-style=\"normal\" font-weight=\"normal\" text-anchor=\"end\" text-decoration=\"none\" x=\"93\" y=\"355.89\">Alameda</text>,\n",
       " <text font-family=\"sans-serif\" font-size=\"13\" font-style=\"normal\" font-weight=\"normal\" text-anchor=\"end\" text-decoration=\"none\" x=\"93\" y=\"371.89\">St. Louis</text>,\n",
       " <text font-family=\"sans-serif\" font-size=\"13\" font-style=\"normal\" font-weight=\"normal\" text-anchor=\"end\" text-decoration=\"none\" x=\"93\" y=\"387.89\">Queens</text>,\n",
       " <text font-family=\"sans-serif\" font-size=\"13\" font-style=\"normal\" font-weight=\"normal\" text-anchor=\"end\" text-decoration=\"none\" x=\"93\" y=\"403.89\">Dallas</text>,\n",
       " <text font-family=\"sans-serif\" font-size=\"13\" font-style=\"normal\" font-weight=\"normal\" text-anchor=\"end\" text-decoration=\"none\" x=\"93\" y=\"419.89\">Allegheny</text>,\n",
       " <text font-family=\"sans-serif\" font-size=\"13\" font-style=\"normal\" font-weight=\"normal\" text-anchor=\"end\" text-decoration=\"none\" x=\"93\" y=\"435.89\">Broward</text>,\n",
       " <text font-family=\"sans-serif\" font-size=\"13\" font-style=\"normal\" font-weight=\"normal\" text-anchor=\"end\" text-decoration=\"none\" x=\"93\" y=\"451.89\">Hillsborough</text>,\n",
       " <text font-family=\"sans-serif\" font-size=\"13\" font-style=\"normal\" font-weight=\"normal\" text-anchor=\"end\" text-decoration=\"none\" x=\"93\" y=\"467.89\">Maricopa</text>,\n",
       " <text font-family=\"sans-serif\" font-size=\"13\" font-style=\"normal\" font-weight=\"normal\" text-anchor=\"end\" text-decoration=\"none\" x=\"93\" y=\"483.89\">Franklin</text>,\n",
       " <text font-family=\"sans-serif\" font-size=\"13\" font-style=\"normal\" font-weight=\"normal\" text-anchor=\"end\" text-decoration=\"none\" x=\"93\" y=\"499.89\">New York</text>,\n",
       " <text font-family=\"sans-serif\" font-size=\"13\" font-style=\"normal\" font-weight=\"normal\" text-anchor=\"end\" text-decoration=\"none\" x=\"93\" y=\"515.89\">Palm Beach</text>,\n",
       " <text font-family=\"sans-serif\" font-size=\"13\" font-style=\"normal\" font-weight=\"normal\" text-anchor=\"end\" text-decoration=\"none\" x=\"93\" y=\"531.89\">Los Angeles</text>,\n",
       " <text font-family=\"sans-serif\" font-size=\"13\" font-style=\"normal\" font-weight=\"normal\" text-anchor=\"end\" text-decoration=\"none\" x=\"93\" y=\"547.89\">Bexar</text>,\n",
       " <text font-family=\"sans-serif\" font-size=\"13\" font-style=\"normal\" font-weight=\"normal\" text-anchor=\"end\" text-decoration=\"none\" x=\"93\" y=\"563.89\">San Diego</text>,\n",
       " <text font-family=\"sans-serif\" font-size=\"13\" font-style=\"normal\" font-weight=\"normal\" text-anchor=\"end\" text-decoration=\"none\" x=\"93\" y=\"579.89\">Orange</text>,\n",
       " <text font-family=\"sans-serif\" font-size=\"13\" font-style=\"normal\" font-weight=\"normal\" text-anchor=\"end\" text-decoration=\"none\" x=\"93\" y=\"595.89\">Cook</text>,\n",
       " <text font-family=\"sans-serif\" font-size=\"13\" font-style=\"normal\" font-weight=\"normal\" text-anchor=\"end\" text-decoration=\"none\" x=\"93\" y=\"611.89\">Kings</text>,\n",
       " <text font-family=\"sans-serif\" font-size=\"13\" font-style=\"normal\" font-weight=\"normal\" text-anchor=\"end\" text-decoration=\"none\" x=\"93\" y=\"627.89\">Miami-Dade</text>,\n",
       " <text font-family=\"sans-serif\" font-size=\"13\" font-style=\"normal\" font-weight=\"normal\" text-anchor=\"end\" text-decoration=\"none\" x=\"93\" y=\"643.89\">United States</text>,\n",
       " <text font-family=\"sans-serif\" font-size=\"13\" font-style=\"normal\" font-weight=\"normal\" text-anchor=\"end\" text-decoration=\"none\" x=\"93\" y=\"659.89\">Fulton</text>,\n",
       " <text font-family=\"sans-serif\" font-size=\"13\" font-style=\"normal\" font-weight=\"normal\" text-anchor=\"end\" text-decoration=\"none\" x=\"93\" y=\"675.89\">Clark</text>,\n",
       " <text font-family=\"sans-serif\" font-size=\"13\" font-style=\"normal\" font-weight=\"normal\" text-anchor=\"end\" text-decoration=\"none\" x=\"93\" y=\"691.89\">Riverside</text>,\n",
       " <text font-family=\"sans-serif\" font-size=\"13\" font-style=\"normal\" font-weight=\"normal\" text-anchor=\"end\" text-decoration=\"none\" x=\"93\" y=\"707.89\">Milwaukee</text>,\n",
       " <text font-family=\"sans-serif\" font-size=\"13\" font-style=\"normal\" font-weight=\"normal\" text-anchor=\"end\" text-decoration=\"none\" x=\"93\" y=\"723.89\">Cuyahoga</text>,\n",
       " <text font-family=\"sans-serif\" font-size=\"13\" font-style=\"normal\" font-weight=\"normal\" text-anchor=\"end\" text-decoration=\"none\" x=\"93\" y=\"739.89\">Pima</text>,\n",
       " <text font-family=\"sans-serif\" font-size=\"13\" font-style=\"normal\" font-weight=\"normal\" text-anchor=\"end\" text-decoration=\"none\" x=\"93\" y=\"755.89\">Sacramento</text>,\n",
       " <text font-family=\"sans-serif\" font-size=\"13\" font-style=\"normal\" font-weight=\"normal\" text-anchor=\"end\" text-decoration=\"none\" x=\"93\" y=\"771.89\">San Bernardino</text>,\n",
       " <text font-family=\"sans-serif\" font-size=\"13\" font-style=\"normal\" font-weight=\"normal\" text-anchor=\"end\" text-decoration=\"none\" x=\"93\" y=\"787.89\">Bronx</text>,\n",
       " <text font-family=\"sans-serif\" font-size=\"13\" font-style=\"normal\" font-weight=\"normal\" text-anchor=\"end\" text-decoration=\"none\" x=\"93\" y=\"803.89\">Fresno</text>,\n",
       " <text font-family=\"sans-serif\" font-size=\"13\" font-style=\"normal\" font-weight=\"normal\" text-anchor=\"end\" text-decoration=\"none\" x=\"93\" y=\"819.89\">Wayne</text>,\n",
       " <text font-family=\"sans-serif\" font-size=\"13\" font-style=\"normal\" font-weight=\"normal\" text-anchor=\"end\" text-decoration=\"none\" x=\"93\" y=\"835.89\">Philadelphia</text>]"
      ]
     },
     "execution_count": 14,
     "metadata": {},
     "output_type": "execute_result"
    }
   ],
   "source": [
    "working_parents_range=containers_3[18].findAll('text',{'font-family':\"sans-serif\"})\n",
    "\n",
    "working_parents_range"
   ]
  },
  {
   "cell_type": "code",
   "execution_count": null,
   "id": "5ff9fde9",
   "metadata": {},
   "outputs": [],
   "source": [
    "ff = pd.DataFrame({'States_3': States_3, 'Both_parents_work':Both_parents_work})\n",
    "ff"
   ]
  },
  {
   "cell_type": "markdown",
   "id": "b03ee496",
   "metadata": {},
   "source": [
    "## Percentage of neither Parents Working by State"
   ]
  },
  {
   "cell_type": "code",
   "execution_count": 17,
   "id": "e75320ad",
   "metadata": {},
   "outputs": [
    {
     "data": {
      "text/plain": [
       "21"
      ]
     },
     "execution_count": 17,
     "metadata": {},
     "output_type": "execute_result"
    }
   ],
   "source": [
    "my_url='https://statisticalatlas.com/United-States/Employment-Status#figure/place/neither-parent-works'\n",
    "Uread=uReq(my_url)\n",
    "map_html= Uread.read()\n",
    "Uread.close()\n",
    "map_soup=soup(map_html,'html.parser')\n",
    "containers_4=map_soup.findAll('div',{'class':\"col-sm-6 figure-col no-gutter\"})\n",
    "len(containers_4)"
   ]
  },
  {
   "cell_type": "code",
   "execution_count": 33,
   "id": "addcadb0",
   "metadata": {},
   "outputs": [
    {
     "data": {
      "text/plain": [
       "['Austin',\n",
       " 'San Jose',\n",
       " 'Raleigh',\n",
       " 'Virginia Bch',\n",
       " 'Charlotte',\n",
       " 'Colorado Spgs',\n",
       " 'Seattle',\n",
       " 'Denver',\n",
       " 'Arlington',\n",
       " 'San Francisco',\n",
       " 'Mesa',\n",
       " 'Fort Worth',\n",
       " 'Houston',\n",
       " 'Dallas',\n",
       " 'San Diego',\n",
       " 'Minneapolis',\n",
       " 'Nashville-Davidson',\n",
       " 'Oklahoma City',\n",
       " 'Omaha',\n",
       " 'Portland',\n",
       " 'Los Angeles',\n",
       " 'Kansas City',\n",
       " 'Wichita',\n",
       " 'Washington',\n",
       " 'New York',\n",
       " 'Long Beach',\n",
       " 'San Antonio',\n",
       " 'El Paso',\n",
       " 'United States',\n",
       " 'Phoenix',\n",
       " 'Tulsa',\n",
       " 'Chicago',\n",
       " 'Columbus',\n",
       " 'Albuquerque',\n",
       " 'Oakland',\n",
       " 'Miami',\n",
       " 'Las Vegas',\n",
       " 'Boston',\n",
       " 'Jacksonville',\n",
       " 'Louisville',\n",
       " 'Indianapolis',\n",
       " 'Sacramento',\n",
       " 'Atlanta',\n",
       " 'Milwaukee',\n",
       " 'Memphis',\n",
       " 'Tucson',\n",
       " 'Baltimore',\n",
       " 'Fresno',\n",
       " 'Philadelphia',\n",
       " 'Cleveland',\n",
       " 'Detroit']"
      ]
     },
     "execution_count": 33,
     "metadata": {},
     "output_type": "execute_result"
    }
   ],
   "source": [
    "labels= containers_4[15].findAll('text',{'font-weight':\"normal\"})\n",
    "States_4=[]\n",
    "for i in labels:\n",
    "    i=str(i)\n",
    "    States_4.append(re.split(\">|<\",i)[2])\n",
    "States_4 "
   ]
  },
  {
   "cell_type": "code",
   "execution_count": null,
   "id": "cd7ca5db",
   "metadata": {},
   "outputs": [],
   "source": [
    "not_working_parents_range=containers.findAll('text',{'fill-opacity': \"0.400\"})\n",
    "\n",
    "Neither_parents_work=[]\n",
    "for i in not_working_parents_range:\n",
    "    i=str(i)\n",
    "    Neither_parents_work.append(re.split(\">|<\",i)[2])\n",
    "#Neither_parents_work"
   ]
  }
 ],
 "metadata": {
  "kernelspec": {
   "display_name": "Python 3 (ipykernel)",
   "language": "python",
   "name": "python3"
  },
  "language_info": {
   "codemirror_mode": {
    "name": "ipython",
    "version": 3
   },
   "file_extension": ".py",
   "mimetype": "text/x-python",
   "name": "python",
   "nbconvert_exporter": "python",
   "pygments_lexer": "ipython3",
   "version": "3.9.7"
  }
 },
 "nbformat": 4,
 "nbformat_minor": 5
}
